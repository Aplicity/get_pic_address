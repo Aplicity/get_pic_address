{
 "cells": [
  {
   "cell_type": "code",
   "execution_count": 16,
   "metadata": {},
   "outputs": [],
   "source": [
    "import os\n",
    "import exifread\n",
    "import requests\n",
    "import json\n",
    "import datetime"
   ]
  },
  {
   "cell_type": "code",
   "execution_count": 2,
   "metadata": {},
   "outputs": [],
   "source": [
    "def transform_GPScoordinate(GPSLongitude, GPSLatitude ):\n",
    "    '''\n",
    "    把地图上的GPS经纬度信息转换为数值型的GPS坐标\n",
    "    '''\n",
    "    ## 经度\n",
    "    logitude_list = GPSLongitude.replace(\"[\", \"\").replace(\"]\", \"\").split(',')\n",
    "    logitude_list = [element.strip() for element in  logitude_list]\n",
    "    degree = int(logitude_list[0])  # 度\n",
    "    minute = int(logitude_list[1]) / 60 # 分\n",
    "    temp = logitude_list[2].split('/')\n",
    "    second = int(temp[0]) / int(temp[1]) / 3600\n",
    "    logitude = degree + minute + second\n",
    "    \n",
    "    ## 纬度\n",
    "    latitude_list = GPSLatitude.replace(\"[\", \"\").replace(\"]\", \"\").split(',')\n",
    "    latitude_list = [element.strip() for element in  latitude_list]\n",
    "    degree = int(latitude_list[0])  # 度\n",
    "    minute = int(latitude_list[1]) / 60 # 分\n",
    "    temp = latitude_list[2].split('/')\n",
    "    second = int(temp[0]) / int(temp[1]) / 3600\n",
    "    latitude = degree + minute + second\n",
    "    \n",
    "    return \"%0.6f\" %logitude, \"%0.6f\" %latitude\n",
    "    "
   ]
  },
  {
   "cell_type": "code",
   "execution_count": 7,
   "metadata": {},
   "outputs": [],
   "source": [
    "def GPS_to_gaodeCoordinate(GPS_coordinate):\n",
    "    '''\n",
    "    GPS坐标转高德地图坐标\n",
    "    '''\n",
    "    logitude, latitude = GPS_coordinate\n",
    "    URL = 'https://restapi.amap.com/v3/assistant/coordinate/convert?locations={},{}&coordsys=gps&key={}'.format(\n",
    "        logitude,latitude, key)\n",
    "    response = requests.get(URL)\n",
    "    location_json = json.loads(response.text)\n",
    "\n",
    "    if location_json['status'] is '1':\n",
    "        coordinate = location_json['locations']\n",
    "        return coordinate\n",
    "    else:\n",
    "        print('转换高德坐标不成功！')"
   ]
  },
  {
   "cell_type": "code",
   "execution_count": 8,
   "metadata": {},
   "outputs": [],
   "source": [
    "def get_address(coordinate):\n",
    "    '''\n",
    "    通过高德坐标请求地理位置信息\n",
    "    '''\n",
    "    coordinate = \",\".join(['%.06f' % float(coordinate.split(\",\")[0]), '%.06f' % float(coordinate.split(\",\")[1]) ])\n",
    "    URL = \"https://restapi.amap.com/v3/geocode/regeo?location={}&key={}\".format(coordinate, key )\n",
    "    response = requests.get(URL)\n",
    "    address_json = json.loads(response.text)\n",
    "    if address_json['status'] is  '1':\n",
    "        location = address_json['regeocode']['formatted_address']\n",
    "        return location\n",
    "    else:\n",
    "        print('请求位置信息失败！')"
   ]
  },
  {
   "cell_type": "code",
   "execution_count": 9,
   "metadata": {},
   "outputs": [],
   "source": [
    "class Location():\n",
    "    def __init__(self,img_path):\n",
    "        img_exif = exifread.process_file(open(img_path, 'rb'))\n",
    "        self.date_time = str(img_exif['EXIF DateTimeOriginal']) # 拍摄时间\n",
    "#         self.GPSLatitudeRef = str(img_exif['GPS GPSLatitudeRef']) # 纬度方向\n",
    "#         self.GPSLongitudeRef = str(img_exif[ 'GPS GPSLongitudeRef']) ## 经度方向\n",
    "        self.GPSLatitude = str(img_exif['GPS GPSLatitude']) ## 纬度\n",
    "        self.GPSLongitude = str(img_exif['GPS GPSLongitude']) ## 经度\n",
    "        \n",
    "        ## https://lbs.amap.com/dev/key/app 在高德开发者平台申请key\n",
    "        self.key = \"265421ba2620841a9c*********\"\n",
    "        \n"
   ]
  },
  {
   "cell_type": "code",
   "execution_count": 13,
   "metadata": {},
   "outputs": [],
   "source": [
    "img_path = \"xxxx.jpg\"\n",
    "img_exif = Location(img_path)\n",
    "key = img_exif.key\n",
    "## 解析图片的GPS位置坐标\n",
    "GPS_coordinate = transform_GPScoordinate(img_exif.GPSLongitude, img_exif.GPSLatitude )\n",
    "## GPS坐标 转换为 高德位置坐标\n",
    "coordinate = GPS_to_gaodeCoordinate(GPS_coordinate)\n",
    "## 请求高德地图为位置\n",
    "location = get_address(coordinate)\n",
    "\n"
   ]
  },
  {
   "cell_type": "code",
   "execution_count": null,
   "metadata": {},
   "outputs": [],
   "source": []
  },
  {
   "cell_type": "code",
   "execution_count": null,
   "metadata": {},
   "outputs": [],
   "source": []
  },
  {
   "cell_type": "code",
   "execution_count": null,
   "metadata": {},
   "outputs": [],
   "source": []
  },
  {
   "cell_type": "code",
   "execution_count": null,
   "metadata": {},
   "outputs": [],
   "source": []
  },
  {
   "cell_type": "code",
   "execution_count": null,
   "metadata": {},
   "outputs": [],
   "source": []
  }
 ],
 "metadata": {
  "kernelspec": {
   "display_name": "Python 3",
   "language": "python",
   "name": "python3"
  },
  "language_info": {
   "codemirror_mode": {
    "name": "ipython",
    "version": 3
   },
   "file_extension": ".py",
   "mimetype": "text/x-python",
   "name": "python",
   "nbconvert_exporter": "python",
   "pygments_lexer": "ipython3",
   "version": "3.6.4"
  },
  "toc": {
   "base_numbering": 1,
   "nav_menu": {},
   "number_sections": true,
   "sideBar": true,
   "skip_h1_title": false,
   "title_cell": "Table of Contents",
   "title_sidebar": "Contents",
   "toc_cell": false,
   "toc_position": {},
   "toc_section_display": true,
   "toc_window_display": false
  },
  "varInspector": {
   "cols": {
    "lenName": 16,
    "lenType": 16,
    "lenVar": 40
   },
   "kernels_config": {
    "python": {
     "delete_cmd_postfix": "",
     "delete_cmd_prefix": "del ",
     "library": "var_list.py",
     "varRefreshCmd": "print(var_dic_list())"
    },
    "r": {
     "delete_cmd_postfix": ") ",
     "delete_cmd_prefix": "rm(",
     "library": "var_list.r",
     "varRefreshCmd": "cat(var_dic_list()) "
    }
   },
   "types_to_exclude": [
    "module",
    "function",
    "builtin_function_or_method",
    "instance",
    "_Feature"
   ],
   "window_display": false
  }
 },
 "nbformat": 4,
 "nbformat_minor": 2
}
